{
 "cells": [
  {
   "cell_type": "markdown",
   "id": "4fb94411",
   "metadata": {},
   "source": [
    "# Database feature overview and data management"
   ]
  },
  {
   "cell_type": "code",
   "execution_count": 56,
   "id": "43c80897",
   "metadata": {},
   "outputs": [
    {
     "name": "stdout",
     "output_type": "stream",
     "text": [
      "Collecting plotly\n",
      "  Downloading plotly-5.5.0-py2.py3-none-any.whl (26.5 MB)\n",
      "Collecting tenacity>=6.2.0\n",
      "  Downloading tenacity-8.0.1-py3-none-any.whl (24 kB)\n",
      "Requirement already satisfied: six in c:\\users\\denil\\anaconda3\\lib\\site-packages (from plotly) (1.15.0)\n",
      "Installing collected packages: tenacity, plotly\n",
      "Successfully installed plotly-5.5.0 tenacity-8.0.1\n"
     ]
    }
   ],
   "source": [
    "! pip install plotly"
   ]
  },
  {
   "cell_type": "code",
   "execution_count": 111,
   "id": "bc587cd2",
   "metadata": {},
   "outputs": [],
   "source": [
    "import math\n",
    "import numpy as np # imports a fast numerical programming library\n",
    "import scipy as sp # imports stats functions, amongst other things\n",
    "import matplotlib as mpl # this actually imports matplotlib\n",
    "import matplotlib.cm as cm # allows us easy access to colormaps\n",
    "import matplotlib.pyplot as plt # sets up plotting under plt\n",
    "import pandas as pd # lets us handle data as dataframes\n",
    "from sklearn.datasets import make_classification\n",
    "import seaborn as sns\n",
    "import pylab as pl # for plotting normalized distributions\n",
    "import plotly\n",
    "import plotly.express as px\n",
    "# sets up pandas table display\n",
    "pd.set_option('display.width', 500)\n",
    "pd.set_option('display.max_columns', 100)\n",
    "pd.set_option('display.notebook_repr_html', True)"
   ]
  },
  {
   "cell_type": "code",
   "execution_count": 2,
   "id": "8d20a178",
   "metadata": {},
   "outputs": [],
   "source": [
    "TravelInsurance= pd.read_csv('TravelInsurancePrediction.csv')"
   ]
  },
  {
   "cell_type": "code",
   "execution_count": 3,
   "id": "673392e7",
   "metadata": {},
   "outputs": [],
   "source": [
    "TravelInsurance.drop('Unnamed: 0',axis=1,inplace=True)"
   ]
  },
  {
   "cell_type": "code",
   "execution_count": 4,
   "id": "33e110b6",
   "metadata": {},
   "outputs": [],
   "source": [
    "TravelInsurance['GraduateOrNot'].replace({\"Yes\" :1 , \"No\": 0}, inplace=True)\n",
    "TravelInsurance['FrequentFlyer'].replace({\"Yes\" :1 , \"No\": 0}, inplace=True)\n",
    "TravelInsurance['EverTravelledAbroad'].replace({\"Yes\" :1 , \"No\": 0}, inplace=True)\n",
    "TravelInsurance['Employment Type'].replace({\"Government Sector\" :1 , \"Private Sector/Self Employed\": 0}, inplace=True)"
   ]
  },
  {
   "cell_type": "markdown",
   "id": "66f2049e",
   "metadata": {},
   "source": [
    "We change the features that contained yes or no, with 1 and 0 values"
   ]
  },
  {
   "cell_type": "code",
   "execution_count": 5,
   "id": "ab45a4a4",
   "metadata": {
    "collapsed": true
   },
   "outputs": [
    {
     "data": {
      "text/html": [
       "<div>\n",
       "<style scoped>\n",
       "    .dataframe tbody tr th:only-of-type {\n",
       "        vertical-align: middle;\n",
       "    }\n",
       "\n",
       "    .dataframe tbody tr th {\n",
       "        vertical-align: top;\n",
       "    }\n",
       "\n",
       "    .dataframe thead th {\n",
       "        text-align: right;\n",
       "    }\n",
       "</style>\n",
       "<table border=\"1\" class=\"dataframe\">\n",
       "  <thead>\n",
       "    <tr style=\"text-align: right;\">\n",
       "      <th></th>\n",
       "      <th>Age</th>\n",
       "      <th>Employment Type</th>\n",
       "      <th>GraduateOrNot</th>\n",
       "      <th>AnnualIncome</th>\n",
       "      <th>FamilyMembers</th>\n",
       "      <th>ChronicDiseases</th>\n",
       "      <th>FrequentFlyer</th>\n",
       "      <th>EverTravelledAbroad</th>\n",
       "      <th>TravelInsurance</th>\n",
       "    </tr>\n",
       "  </thead>\n",
       "  <tbody>\n",
       "    <tr>\n",
       "      <th>Age</th>\n",
       "      <td>1.000000</td>\n",
       "      <td>0.115134</td>\n",
       "      <td>0.027125</td>\n",
       "      <td>-0.020101</td>\n",
       "      <td>0.027409</td>\n",
       "      <td>0.007359</td>\n",
       "      <td>-0.033159</td>\n",
       "      <td>-0.012779</td>\n",
       "      <td>0.061060</td>\n",
       "    </tr>\n",
       "    <tr>\n",
       "      <th>Employment Type</th>\n",
       "      <td>0.115134</td>\n",
       "      <td>1.000000</td>\n",
       "      <td>0.127133</td>\n",
       "      <td>-0.349157</td>\n",
       "      <td>0.003354</td>\n",
       "      <td>0.011553</td>\n",
       "      <td>-0.143790</td>\n",
       "      <td>-0.181098</td>\n",
       "      <td>-0.147847</td>\n",
       "    </tr>\n",
       "    <tr>\n",
       "      <th>GraduateOrNot</th>\n",
       "      <td>0.027125</td>\n",
       "      <td>0.127133</td>\n",
       "      <td>1.000000</td>\n",
       "      <td>0.108066</td>\n",
       "      <td>0.021201</td>\n",
       "      <td>0.018811</td>\n",
       "      <td>-0.028120</td>\n",
       "      <td>0.062683</td>\n",
       "      <td>0.018934</td>\n",
       "    </tr>\n",
       "    <tr>\n",
       "      <th>AnnualIncome</th>\n",
       "      <td>-0.020101</td>\n",
       "      <td>-0.349157</td>\n",
       "      <td>0.108066</td>\n",
       "      <td>1.000000</td>\n",
       "      <td>-0.015367</td>\n",
       "      <td>-0.001149</td>\n",
       "      <td>0.353087</td>\n",
       "      <td>0.486043</td>\n",
       "      <td>0.396763</td>\n",
       "    </tr>\n",
       "    <tr>\n",
       "      <th>FamilyMembers</th>\n",
       "      <td>0.027409</td>\n",
       "      <td>0.003354</td>\n",
       "      <td>0.021201</td>\n",
       "      <td>-0.015367</td>\n",
       "      <td>1.000000</td>\n",
       "      <td>0.028209</td>\n",
       "      <td>-0.023775</td>\n",
       "      <td>-0.020755</td>\n",
       "      <td>0.079909</td>\n",
       "    </tr>\n",
       "    <tr>\n",
       "      <th>ChronicDiseases</th>\n",
       "      <td>0.007359</td>\n",
       "      <td>0.011553</td>\n",
       "      <td>0.018811</td>\n",
       "      <td>-0.001149</td>\n",
       "      <td>0.028209</td>\n",
       "      <td>1.000000</td>\n",
       "      <td>-0.043720</td>\n",
       "      <td>0.021238</td>\n",
       "      <td>0.018190</td>\n",
       "    </tr>\n",
       "    <tr>\n",
       "      <th>FrequentFlyer</th>\n",
       "      <td>-0.033159</td>\n",
       "      <td>-0.143790</td>\n",
       "      <td>-0.028120</td>\n",
       "      <td>0.353087</td>\n",
       "      <td>-0.023775</td>\n",
       "      <td>-0.043720</td>\n",
       "      <td>1.000000</td>\n",
       "      <td>0.277334</td>\n",
       "      <td>0.232103</td>\n",
       "    </tr>\n",
       "    <tr>\n",
       "      <th>EverTravelledAbroad</th>\n",
       "      <td>-0.012779</td>\n",
       "      <td>-0.181098</td>\n",
       "      <td>0.062683</td>\n",
       "      <td>0.486043</td>\n",
       "      <td>-0.020755</td>\n",
       "      <td>0.021238</td>\n",
       "      <td>0.277334</td>\n",
       "      <td>1.000000</td>\n",
       "      <td>0.433183</td>\n",
       "    </tr>\n",
       "    <tr>\n",
       "      <th>TravelInsurance</th>\n",
       "      <td>0.061060</td>\n",
       "      <td>-0.147847</td>\n",
       "      <td>0.018934</td>\n",
       "      <td>0.396763</td>\n",
       "      <td>0.079909</td>\n",
       "      <td>0.018190</td>\n",
       "      <td>0.232103</td>\n",
       "      <td>0.433183</td>\n",
       "      <td>1.000000</td>\n",
       "    </tr>\n",
       "  </tbody>\n",
       "</table>\n",
       "</div>"
      ],
      "text/plain": [
       "                          Age  Employment Type  GraduateOrNot  AnnualIncome  FamilyMembers  ChronicDiseases  FrequentFlyer  EverTravelledAbroad  TravelInsurance\n",
       "Age                  1.000000         0.115134       0.027125     -0.020101       0.027409         0.007359      -0.033159            -0.012779         0.061060\n",
       "Employment Type      0.115134         1.000000       0.127133     -0.349157       0.003354         0.011553      -0.143790            -0.181098        -0.147847\n",
       "GraduateOrNot        0.027125         0.127133       1.000000      0.108066       0.021201         0.018811      -0.028120             0.062683         0.018934\n",
       "AnnualIncome        -0.020101        -0.349157       0.108066      1.000000      -0.015367        -0.001149       0.353087             0.486043         0.396763\n",
       "FamilyMembers        0.027409         0.003354       0.021201     -0.015367       1.000000         0.028209      -0.023775            -0.020755         0.079909\n",
       "ChronicDiseases      0.007359         0.011553       0.018811     -0.001149       0.028209         1.000000      -0.043720             0.021238         0.018190\n",
       "FrequentFlyer       -0.033159        -0.143790      -0.028120      0.353087      -0.023775        -0.043720       1.000000             0.277334         0.232103\n",
       "EverTravelledAbroad -0.012779        -0.181098       0.062683      0.486043      -0.020755         0.021238       0.277334             1.000000         0.433183\n",
       "TravelInsurance      0.061060        -0.147847       0.018934      0.396763       0.079909         0.018190       0.232103             0.433183         1.000000"
      ]
     },
     "execution_count": 5,
     "metadata": {},
     "output_type": "execute_result"
    }
   ],
   "source": [
    "TravelInsurance.corr(method='pearson')"
   ]
  },
  {
   "cell_type": "markdown",
   "id": "9a96aa8c",
   "metadata": {},
   "source": [
    "The feature with the highest correlation with the truth vector is the \"EverTravelledAbroad\" , so having alredy a traveler experience has the greatest impact on the choiche of buying or not a travel insurance package."
   ]
  },
  {
   "cell_type": "code",
   "execution_count": 6,
   "id": "a8135292",
   "metadata": {
    "collapsed": true
   },
   "outputs": [
    {
     "data": {
      "text/plain": [
       "0       0\n",
       "1       0\n",
       "2       1\n",
       "3       0\n",
       "4       0\n",
       "       ..\n",
       "1982    1\n",
       "1983    0\n",
       "1984    0\n",
       "1985    1\n",
       "1986    0\n",
       "Name: TravelInsurance, Length: 1987, dtype: int64"
      ]
     },
     "execution_count": 6,
     "metadata": {},
     "output_type": "execute_result"
    }
   ],
   "source": [
    "y=TravelInsurance['TravelInsurance']\n",
    "y"
   ]
  },
  {
   "cell_type": "markdown",
   "id": "7667bdfc",
   "metadata": {},
   "source": [
    "We have 6 binary features (including the truth array), so we can use pie charts to understand and visualize better the database"
   ]
  },
  {
   "cell_type": "code",
   "execution_count": 25,
   "id": "5884ceb4",
   "metadata": {},
   "outputs": [
    {
     "data": {
      "image/png": "[encoded data removed]",
      "text/plain": [
       "<Figure size 432x288 with 1 Axes>"
      ]
     },
     "metadata": {},
     "output_type": "display_data"
    }
   ],
   "source": [
    "intrested, not_intrested=y.value_counts()\n",
    "sizes = [intrested, not_intrested]\n",
    "lbls = ['Not Intrested', 'Intrested']\n",
    "plt.pie(sizes, labels=lbls, autopct='%1.1f%%')\n",
    "plt.show()"
   ]
  },
  {
   "cell_type": "markdown",
   "id": "31c47bec",
   "metadata": {},
   "source": [
    "Since almost 2/3 of our database it's composed from people that are not intrested in buying a travel insurance package, we expect to have a bias in our model. Later we will try to use a reduced portion of the database having a greater percentage of intrested people."
   ]
  },
  {
   "cell_type": "code",
   "execution_count": 42,
   "id": "e06bc9a2",
   "metadata": {},
   "outputs": [
    {
     "data": {
      "text/plain": [
       "0    1417\n",
       "1     570\n",
       "Name: Employment Type, dtype: int64"
      ]
     },
     "execution_count": 42,
     "metadata": {},
     "output_type": "execute_result"
    }
   ],
   "source": [
    "X=TravelInsurance['Employment Type']\n",
    "X.value_counts()"
   ]
  },
  {
   "cell_type": "code",
   "execution_count": 43,
   "id": "80d44991",
   "metadata": {},
   "outputs": [
    {
     "data": {
      "image/png": "[encoded data removed]",
      "text/plain": [
       "<Figure size 432x288 with 1 Axes>"
      ]
     },
     "metadata": {},
     "output_type": "display_data"
    }
   ],
   "source": [
    "X=TravelInsurance['Employment Type']\n",
    "intrested, not_intrested=X.value_counts()\n",
    "sizes = [intrested, not_intrested]\n",
    "lbls = ['Private Sector/Self Employed', 'Government Sector']\n",
    "plt.pie(sizes, labels=lbls, autopct='%1.1f%%')\n",
    "plt.show()"
   ]
  },
  {
   "cell_type": "code",
   "execution_count": 34,
   "id": "8bdbdc22",
   "metadata": {},
   "outputs": [
    {
     "data": {
      "text/plain": [
       "1    1692\n",
       "0     295\n",
       "Name: GraduateOrNot, dtype: int64"
      ]
     },
     "execution_count": 34,
     "metadata": {},
     "output_type": "execute_result"
    }
   ],
   "source": [
    "X=TravelInsurance['GraduateOrNot']\n",
    "X.value_counts()\n"
   ]
  },
  {
   "cell_type": "code",
   "execution_count": 32,
   "id": "0c71d12a",
   "metadata": {
    "scrolled": true
   },
   "outputs": [
    {
     "data": {
      "image/png": "[encoded data removed]",
      "text/plain": [
       "<Figure size 432x288 with 1 Axes>"
      ]
     },
     "metadata": {},
     "output_type": "display_data"
    }
   ],
   "source": [
    "X=TravelInsurance['GraduateOrNot']\n",
    "intrested, not_intrested=X.value_counts()\n",
    "sizes = [intrested, not_intrested]\n",
    "lbls = ['Graduate', 'Not Graduate']\n",
    "plt.pie(sizes, labels=lbls, autopct='%1.1f%%')\n",
    "plt.show()"
   ]
  },
  {
   "cell_type": "code",
   "execution_count": 40,
   "id": "66d5b18c",
   "metadata": {},
   "outputs": [
    {
     "data": {
      "text/plain": [
       "0    1570\n",
       "1     417\n",
       "Name: FrequentFlyer, dtype: int64"
      ]
     },
     "execution_count": 40,
     "metadata": {},
     "output_type": "execute_result"
    }
   ],
   "source": [
    "X=TravelInsurance['FrequentFlyer']\n",
    "X.value_counts()"
   ]
  },
  {
   "cell_type": "code",
   "execution_count": 41,
   "id": "dd12aec3",
   "metadata": {},
   "outputs": [
    {
     "data": {
      "image/png": "[encoded data removed]",
      "text/plain": [
       "<Figure size 432x288 with 1 Axes>"
      ]
     },
     "metadata": {},
     "output_type": "display_data"
    }
   ],
   "source": [
    "X=TravelInsurance['FrequentFlyer']\n",
    "intrested, not_intrested=X.value_counts()\n",
    "sizes = [intrested, not_intrested]\n",
    "lbls = ['Not Frequent Flyers', 'Frequent Flyers']\n",
    "plt.pie(sizes, labels=lbls, autopct='%1.1f%%')\n",
    "plt.show()"
   ]
  },
  {
   "cell_type": "code",
   "execution_count": 38,
   "id": "04149aef",
   "metadata": {},
   "outputs": [
    {
     "data": {
      "text/plain": [
       "0    1607\n",
       "1     380\n",
       "Name: EverTravelledAbroad, dtype: int64"
      ]
     },
     "execution_count": 38,
     "metadata": {},
     "output_type": "execute_result"
    }
   ],
   "source": [
    "X=TravelInsurance['EverTravelledAbroad']\n",
    "X.value_counts()"
   ]
  },
  {
   "cell_type": "code",
   "execution_count": 39,
   "id": "b46bf86d",
   "metadata": {},
   "outputs": [
    {
     "data": {
      "image/png": "[encoded data removed]",
      "text/plain": [
       "<Figure size 432x288 with 1 Axes>"
      ]
     },
     "metadata": {},
     "output_type": "display_data"
    }
   ],
   "source": [
    "X=TravelInsurance['EverTravelledAbroad']\n",
    "intrested, not_intrested=X.value_counts()\n",
    "sizes = [intrested, not_intrested]\n",
    "lbls = ['Not Traveled Abroad', 'Traveled Abroad']\n",
    "plt.pie(sizes, labels=lbls, autopct='%1.1f%%')\n",
    "plt.show()"
   ]
  },
  {
   "cell_type": "code",
   "execution_count": 44,
   "id": "ae92a371",
   "metadata": {},
   "outputs": [
    {
     "data": {
      "text/plain": [
       "0    1435\n",
       "1     552\n",
       "Name: ChronicDiseases, dtype: int64"
      ]
     },
     "execution_count": 44,
     "metadata": {},
     "output_type": "execute_result"
    }
   ],
   "source": [
    "X=TravelInsurance[]\n",
    "X.value_counts()"
   ]
  },
  {
   "cell_type": "code",
   "execution_count": 45,
   "id": "448c35ec",
   "metadata": {},
   "outputs": [
    {
     "data": {
      "image/png": "[encoded data removed]",
      "text/plain": [
       "<Figure size 432x288 with 1 Axes>"
      ]
     },
     "metadata": {},
     "output_type": "display_data"
    }
   ],
   "source": [
    "X=TravelInsurance['ChronicDiseases']\n",
    "intrested, not_intrested=X.value_counts()\n",
    "sizes = [intrested, not_intrested]\n",
    "lbls = ['Not Having Chronic Disease', 'Having Chronic Disease']\n",
    "plt.pie(sizes, labels=lbls, autopct='%1.1f%%')\n",
    "plt.show()"
   ]
  },
  {
   "cell_type": "markdown",
   "id": "ea3f9b04",
   "metadata": {},
   "source": [
    "For the continuos variable we can plot their values"
   ]
  },
  {
   "cell_type": "code",
   "execution_count": 109,
   "id": "fa8f616b",
   "metadata": {},
   "outputs": [],
   "source": [
    "continuous_data = TravelInsurance[['Age','AnnualIncome','FamilyMembers','TravelInsurance']]"
   ]
  },
  {
   "cell_type": "code",
   "execution_count": 108,
   "id": "ef4e5c85",
   "metadata": {},
   "outputs": [],
   "source": [
    "import scipy.stats as stats\n",
    "\n",
    "def continuous_graph(header_name , title):\n",
    "  all_data = continuous_data[header_name]\n",
    "  targets = continuous_data['TravelInsurance']\n",
    "  pos_vals_init = []\n",
    "  neg_vals_init = []\n",
    "  for i in range (len(targets)):\n",
    "    if (targets[i] == 1):\n",
    "      pos_vals_init.append(all_data[i])\n",
    "    else:\n",
    "      neg_vals_init.append(all_data[i])\n",
    "  \n",
    "  pos_vals = sorted(pos_vals_init)\n",
    "  neg_vals = sorted(neg_vals_init)\n",
    "\n",
    "  pos_fit = stats.norm.pdf(pos_vals, np.mean(pos_vals), np.std(pos_vals))\n",
    "  neg_fit = stats.norm.pdf(neg_vals, np.mean(neg_vals), np.std(neg_vals))\n",
    "\n",
    "  pl.plot(pos_vals, pos_fit,'-o')\n",
    "  pl.plot(neg_vals, neg_fit,'-r')\n",
    "\n",
    "  pl.title(title)\n",
    "\n",
    "  pl.show()"
   ]
  },
  {
   "cell_type": "code",
   "execution_count": 112,
   "id": "34a435a1",
   "metadata": {
    "scrolled": true
   },
   "outputs": [
    {
     "data": {
      "image/png": "[encoded data removed]",
      "text/plain": [
       "<Figure size 432x288 with 1 Axes>"
      ]
     },
     "metadata": {
      "needs_background": "light"
     },
     "output_type": "display_data"
    }
   ],
   "source": [
    "continuous_graph('AnnualIncome' , 'Annual income in millions')"
   ]
  },
  {
   "cell_type": "code",
   "execution_count": 113,
   "id": "a320746b",
   "metadata": {},
   "outputs": [
    {
     "data": {
      "image/png": "[encoded data removed]",
      "text/plain": [
       "<Figure size 432x288 with 1 Axes>"
      ]
     },
     "metadata": {
      "needs_background": "light"
     },
     "output_type": "display_data"
    }
   ],
   "source": [
    "continuous_graph('Age' , 'Age')"
   ]
  },
  {
   "cell_type": "code",
   "execution_count": 114,
   "id": "fd5f47a0",
   "metadata": {},
   "outputs": [
    {
     "data": {
      "image/png": "[encoded data removed]",
      "text/plain": [
       "<Figure size 432x288 with 1 Axes>"
      ]
     },
     "metadata": {
      "needs_background": "light"
     },
     "output_type": "display_data"
    }
   ],
   "source": [
    "continuous_graph('FamilyMembers' , 'Number of family members')"
   ]
  },
  {
   "cell_type": "markdown",
   "id": "1c908d3f",
   "metadata": {},
   "source": [
    "# Logistic Regression Method"
   ]
  },
  {
   "cell_type": "code",
   "execution_count": 67,
   "id": "8b8373d5",
   "metadata": {},
   "outputs": [],
   "source": [
    "#here the features that we want to use for the analisis\n",
    "list_of_features=['Age', 'Employment Type', 'GraduateOrNot', 'AnnualIncome', 'FamilyMembers','FrequentFlyer', 'ChronicDiseases', 'EverTravelledAbroad']"
   ]
  },
  {
   "cell_type": "code",
   "execution_count": 68,
   "id": "60df7d38",
   "metadata": {
    "collapsed": true
   },
   "outputs": [
    {
     "data": {
      "text/html": [
       "<div>\n",
       "<style scoped>\n",
       "    .dataframe tbody tr th:only-of-type {\n",
       "        vertical-align: middle;\n",
       "    }\n",
       "\n",
       "    .dataframe tbody tr th {\n",
       "        vertical-align: top;\n",
       "    }\n",
       "\n",
       "    .dataframe thead th {\n",
       "        text-align: right;\n",
       "    }\n",
       "</style>\n",
       "<table border=\"1\" class=\"dataframe\">\n",
       "  <thead>\n",
       "    <tr style=\"text-align: right;\">\n",
       "      <th></th>\n",
       "      <th>Age</th>\n",
       "      <th>Employment Type</th>\n",
       "      <th>GraduateOrNot</th>\n",
       "      <th>AnnualIncome</th>\n",
       "      <th>FamilyMembers</th>\n",
       "      <th>FrequentFlyer</th>\n",
       "      <th>ChronicDiseases</th>\n",
       "      <th>EverTravelledAbroad</th>\n",
       "    </tr>\n",
       "  </thead>\n",
       "  <tbody>\n",
       "    <tr>\n",
       "      <th>0</th>\n",
       "      <td>31</td>\n",
       "      <td>1</td>\n",
       "      <td>1</td>\n",
       "      <td>400000</td>\n",
       "      <td>6</td>\n",
       "      <td>0</td>\n",
       "      <td>1</td>\n",
       "      <td>0</td>\n",
       "    </tr>\n",
       "    <tr>\n",
       "      <th>1</th>\n",
       "      <td>31</td>\n",
       "      <td>0</td>\n",
       "      <td>1</td>\n",
       "      <td>1250000</td>\n",
       "      <td>7</td>\n",
       "      <td>0</td>\n",
       "      <td>0</td>\n",
       "      <td>0</td>\n",
       "    </tr>\n",
       "    <tr>\n",
       "      <th>2</th>\n",
       "      <td>34</td>\n",
       "      <td>0</td>\n",
       "      <td>1</td>\n",
       "      <td>500000</td>\n",
       "      <td>4</td>\n",
       "      <td>0</td>\n",
       "      <td>1</td>\n",
       "      <td>0</td>\n",
       "    </tr>\n",
       "    <tr>\n",
       "      <th>3</th>\n",
       "      <td>28</td>\n",
       "      <td>0</td>\n",
       "      <td>1</td>\n",
       "      <td>700000</td>\n",
       "      <td>3</td>\n",
       "      <td>0</td>\n",
       "      <td>1</td>\n",
       "      <td>0</td>\n",
       "    </tr>\n",
       "    <tr>\n",
       "      <th>4</th>\n",
       "      <td>28</td>\n",
       "      <td>0</td>\n",
       "      <td>1</td>\n",
       "      <td>700000</td>\n",
       "      <td>8</td>\n",
       "      <td>1</td>\n",
       "      <td>1</td>\n",
       "      <td>0</td>\n",
       "    </tr>\n",
       "    <tr>\n",
       "      <th>...</th>\n",
       "      <td>...</td>\n",
       "      <td>...</td>\n",
       "      <td>...</td>\n",
       "      <td>...</td>\n",
       "      <td>...</td>\n",
       "      <td>...</td>\n",
       "      <td>...</td>\n",
       "      <td>...</td>\n",
       "    </tr>\n",
       "    <tr>\n",
       "      <th>1982</th>\n",
       "      <td>33</td>\n",
       "      <td>0</td>\n",
       "      <td>1</td>\n",
       "      <td>1500000</td>\n",
       "      <td>4</td>\n",
       "      <td>1</td>\n",
       "      <td>0</td>\n",
       "      <td>1</td>\n",
       "    </tr>\n",
       "    <tr>\n",
       "      <th>1983</th>\n",
       "      <td>28</td>\n",
       "      <td>0</td>\n",
       "      <td>1</td>\n",
       "      <td>1750000</td>\n",
       "      <td>5</td>\n",
       "      <td>0</td>\n",
       "      <td>1</td>\n",
       "      <td>1</td>\n",
       "    </tr>\n",
       "    <tr>\n",
       "      <th>1984</th>\n",
       "      <td>28</td>\n",
       "      <td>0</td>\n",
       "      <td>1</td>\n",
       "      <td>1150000</td>\n",
       "      <td>6</td>\n",
       "      <td>0</td>\n",
       "      <td>1</td>\n",
       "      <td>0</td>\n",
       "    </tr>\n",
       "    <tr>\n",
       "      <th>1985</th>\n",
       "      <td>34</td>\n",
       "      <td>0</td>\n",
       "      <td>1</td>\n",
       "      <td>1000000</td>\n",
       "      <td>6</td>\n",
       "      <td>1</td>\n",
       "      <td>0</td>\n",
       "      <td>1</td>\n",
       "    </tr>\n",
       "    <tr>\n",
       "      <th>1986</th>\n",
       "      <td>34</td>\n",
       "      <td>0</td>\n",
       "      <td>1</td>\n",
       "      <td>500000</td>\n",
       "      <td>4</td>\n",
       "      <td>0</td>\n",
       "      <td>0</td>\n",
       "      <td>0</td>\n",
       "    </tr>\n",
       "  </tbody>\n",
       "</table>\n",
       "<p>1987 rows × 8 columns</p>\n",
       "</div>"
      ],
      "text/plain": [
       "      Age  Employment Type  GraduateOrNot  AnnualIncome  FamilyMembers  FrequentFlyer  ChronicDiseases  EverTravelledAbroad\n",
       "0      31                1              1        400000              6              0                1                    0\n",
       "1      31                0              1       1250000              7              0                0                    0\n",
       "2      34                0              1        500000              4              0                1                    0\n",
       "3      28                0              1        700000              3              0                1                    0\n",
       "4      28                0              1        700000              8              1                1                    0\n",
       "...   ...              ...            ...           ...            ...            ...              ...                  ...\n",
       "1982   33                0              1       1500000              4              1                0                    1\n",
       "1983   28                0              1       1750000              5              0                1                    1\n",
       "1984   28                0              1       1150000              6              0                1                    0\n",
       "1985   34                0              1       1000000              6              1                0                    1\n",
       "1986   34                0              1        500000              4              0                0                    0\n",
       "\n",
       "[1987 rows x 8 columns]"
      ]
     },
     "execution_count": 68,
     "metadata": {},
     "output_type": "execute_result"
    }
   ],
   "source": [
    "X=TravelInsurance[list_of_features]\n",
    "X"
   ]
  },
  {
   "cell_type": "code",
   "execution_count": 69,
   "id": "db525bd9",
   "metadata": {},
   "outputs": [],
   "source": [
    "from sklearn.model_selection import train_test_split\n",
    "X1, X2, y1, y2 = train_test_split(X, y, random_state=0,\n",
    "                                  train_size=0.5) "
   ]
  },
  {
   "cell_type": "markdown",
   "id": "1773a471",
   "metadata": {},
   "source": [
    "We split the dataset in two, one half will be used to train the model, the other will we used to check his accuracy, the we split the role of the two datasets to compute an average accuracy"
   ]
  },
  {
   "cell_type": "code",
   "execution_count": 94,
   "id": "5e3f3607",
   "metadata": {},
   "outputs": [],
   "source": [
    "from sklearn.linear_model import LogisticRegression\n",
    "model = LogisticRegression(multi_class='multinomial', max_iter=1000)"
   ]
  },
  {
   "cell_type": "code",
   "execution_count": 95,
   "id": "ffcd5c9f",
   "metadata": {},
   "outputs": [
    {
     "data": {
      "text/plain": [
       "0.65996"
      ]
     },
     "execution_count": 95,
     "metadata": {},
     "output_type": "execute_result"
    }
   ],
   "source": [
    "from sklearn.metrics import accuracy_score\n",
    "model.fit(X1, y1)\n",
    "y2_model = model.predict(X2)\n",
    "round(accuracy_score(y2, y2_model),6)"
   ]
  },
  {
   "cell_type": "code",
   "execution_count": 96,
   "id": "cb5451db",
   "metadata": {},
   "outputs": [
    {
     "data": {
      "text/plain": [
       "(0.6253776435045317, 0.6599597585513078)"
      ]
     },
     "execution_count": 96,
     "metadata": {},
     "output_type": "execute_result"
    }
   ],
   "source": [
    "y2_model = model.fit(X1, y1).predict(X2)\n",
    "y1_model = model.fit(X2, y2).predict(X1)\n",
    "accuracy_score(y1, y1_model), accuracy_score(y2, y2_model)"
   ]
  },
  {
   "cell_type": "code",
   "execution_count": 97,
   "id": "59459ecf",
   "metadata": {},
   "outputs": [
    {
     "name": "stdout",
     "output_type": "stream",
     "text": [
      "0.6427\n"
     ]
    }
   ],
   "source": [
    "AveargageAccuracy=(accuracy_score(y1, y1_model)+ accuracy_score(y2, y2_model))/2\n",
    "print(round(AveargageAccuracy, 4))"
   ]
  },
  {
   "cell_type": "markdown",
   "id": "80fa1fe0",
   "metadata": {},
   "source": [
    "The final accuracy obtained utilizing this method is rouglhy 64%"
   ]
  },
  {
   "cell_type": "markdown",
   "id": "8572ba19",
   "metadata": {},
   "source": [
    "Let's try using more data to train the model, using a five-fold cross-validation, in which 4/5 of the dataset are used to train the model, and the other 1/5 is used to test it, changing which portion of the dataset is used as a train or as a test 5 times."
   ]
  },
  {
   "cell_type": "code",
   "execution_count": 98,
   "id": "06fde0c7",
   "metadata": {
    "scrolled": true
   },
   "outputs": [
    {
     "data": {
      "text/plain": [
       "0.6426768603723909"
      ]
     },
     "execution_count": 98,
     "metadata": {},
     "output_type": "execute_result"
    }
   ],
   "source": [
    "from sklearn.model_selection import cross_val_score\n",
    "val=(cross_val_score(model, X, y, cv=5))\n",
    "np.average(val)"
   ]
  },
  {
   "cell_type": "markdown",
   "id": "bf2dd39b",
   "metadata": {},
   "source": [
    "Let'a build a for cycle to see how the accuracy change utilizing more validation point"
   ]
  },
  {
   "cell_type": "code",
   "execution_count": 99,
   "id": "d71cad40",
   "metadata": {
    "collapsed": true
   },
   "outputs": [
    {
     "data": {
      "text/plain": [
       "[0.64268,\n",
       " 0.64268,\n",
       " 0.64268,\n",
       " 0.64268,\n",
       " 0.64268,\n",
       " 0.64268,\n",
       " 0.64268,\n",
       " 0.64268,\n",
       " 0.64268,\n",
       " 0.64268,\n",
       " 0.64268,\n",
       " 0.64268,\n",
       " 0.64268,\n",
       " 0.64268,\n",
       " 0.64268,\n",
       " 0.64268,\n",
       " 0.64269,\n",
       " 0.64268]"
      ]
     },
     "execution_count": 99,
     "metadata": {},
     "output_type": "execute_result"
    }
   ],
   "source": [
    "list_of_accuracy=[]\n",
    "for i in range(2 , 20):\n",
    "    val=(cross_val_score(model, X, y, cv=i))\n",
    "    val=round(np.average(val), 5)\n",
    "    list_of_accuracy.append(val)\n",
    "list_of_accuracy"
   ]
  },
  {
   "cell_type": "markdown",
   "id": "e02ea6aa",
   "metadata": {},
   "source": [
    "The accuracy is basically unchanged augmenting the number of K, so to improve our accuracy we had to use other considerations\n"
   ]
  },
  {
   "cell_type": "markdown",
   "id": "31426eb5",
   "metadata": {},
   "source": [
    "## Let's try utilizing only the binary (1 or 0) featuers of the dataset\n"
   ]
  },
  {
   "cell_type": "code",
   "execution_count": 92,
   "id": "f4dea6b7",
   "metadata": {},
   "outputs": [],
   "source": [
    "list_of_features3=['Employment Type', 'GraduateOrNot','ChronicDiseases', 'FrequentFlyer', 'EverTravelledAbroad']"
   ]
  },
  {
   "cell_type": "code",
   "execution_count": 93,
   "id": "9a8510f4",
   "metadata": {},
   "outputs": [],
   "source": [
    "X_new2=TravelInsurance[list_of_features3]"
   ]
  },
  {
   "cell_type": "code",
   "execution_count": 105,
   "id": "c40ed906",
   "metadata": {},
   "outputs": [],
   "source": [
    " x_train , x_test , y_train , y_test = train_test_split(X_new2 , y , test_size=0.2 , random_state=5) "
   ]
  },
  {
   "cell_type": "code",
   "execution_count": 106,
   "id": "611ab7d6",
   "metadata": {},
   "outputs": [
    {
     "name": "stdout",
     "output_type": "stream",
     "text": [
      "The highest accuracy obtained is: 0.75089  and we had obtanied using K= 31\n"
     ]
    }
   ],
   "source": [
    "list_of_accuracy=[]\n",
    "for i in range(2 , 40):\n",
    "    val=(cross_val_score(model, x_train, y_train, cv=i))\n",
    "    val=round(np.average(val), 5)\n",
    "    list_of_accuracy.append(val)\n",
    "Best_Accuracy=max(list_of_accuracy)\n",
    "Index=list_of_accuracy.index(Best_Accuracy)\n",
    "print(\"The highest accuracy obtained is:\", Best_Accuracy , \" and we had obtanied using K=\", Index)"
   ]
  },
  {
   "cell_type": "markdown",
   "id": "469b07df",
   "metadata": {},
   "source": [
    "So utilizing only binary values the accuracy has improved from 64% to 75%"
   ]
  },
  {
   "cell_type": "code",
   "execution_count": 147,
   "id": "da743053",
   "metadata": {},
   "outputs": [
    {
     "ename": "ValueError",
     "evalue": "For evaluating multiple scores, use sklearn.model_selection.cross_validate instead. {'accuracy': make_scorer(accuracy_score), 'precision': make_scorer(precision_score), 'recall': make_scorer(recall_score), 'f1_score': make_scorer(f1_score)} was passed.",
     "output_type": "error",
     "traceback": [
      "\u001b[1;31m---------------------------------------------------------------------------\u001b[0m",
      "\u001b[1;31mValueError\u001b[0m                                Traceback (most recent call last)",
      "\u001b[1;32m<ipython-input-147-e9184f2cce87>\u001b[0m in \u001b[0;36m<module>\u001b[1;34m\u001b[0m\n\u001b[0;32m     11\u001b[0m \u001b[0mmodel\u001b[0m \u001b[1;33m=\u001b[0m \u001b[0mLogisticRegression\u001b[0m\u001b[1;33m(\u001b[0m\u001b[0mmulti_class\u001b[0m\u001b[1;33m=\u001b[0m\u001b[1;34m'multinomial'\u001b[0m\u001b[1;33m,\u001b[0m \u001b[0mmax_iter\u001b[0m\u001b[1;33m=\u001b[0m\u001b[1;36m1000\u001b[0m\u001b[1;33m)\u001b[0m\u001b[1;33m\u001b[0m\u001b[1;33m\u001b[0m\u001b[0m\n\u001b[0;32m     12\u001b[0m \u001b[1;33m\u001b[0m\u001b[0m\n\u001b[1;32m---> 13\u001b[1;33m results = cross_val_score(estimator=model,\n\u001b[0m\u001b[0;32m     14\u001b[0m                                           \u001b[0mX\u001b[0m\u001b[1;33m=\u001b[0m\u001b[0mx_train\u001b[0m\u001b[1;33m,\u001b[0m\u001b[1;33m\u001b[0m\u001b[1;33m\u001b[0m\u001b[0m\n\u001b[0;32m     15\u001b[0m                                           \u001b[0my\u001b[0m\u001b[1;33m=\u001b[0m\u001b[0my_train\u001b[0m\u001b[1;33m,\u001b[0m\u001b[1;33m\u001b[0m\u001b[1;33m\u001b[0m\u001b[0m\n",
      "\u001b[1;32m~\\anaconda3\\lib\\site-packages\\sklearn\\utils\\validation.py\u001b[0m in \u001b[0;36minner_f\u001b[1;34m(*args, **kwargs)\u001b[0m\n\u001b[0;32m     61\u001b[0m             \u001b[0mextra_args\u001b[0m \u001b[1;33m=\u001b[0m \u001b[0mlen\u001b[0m\u001b[1;33m(\u001b[0m\u001b[0margs\u001b[0m\u001b[1;33m)\u001b[0m \u001b[1;33m-\u001b[0m \u001b[0mlen\u001b[0m\u001b[1;33m(\u001b[0m\u001b[0mall_args\u001b[0m\u001b[1;33m)\u001b[0m\u001b[1;33m\u001b[0m\u001b[1;33m\u001b[0m\u001b[0m\n\u001b[0;32m     62\u001b[0m             \u001b[1;32mif\u001b[0m \u001b[0mextra_args\u001b[0m \u001b[1;33m<=\u001b[0m \u001b[1;36m0\u001b[0m\u001b[1;33m:\u001b[0m\u001b[1;33m\u001b[0m\u001b[1;33m\u001b[0m\u001b[0m\n\u001b[1;32m---> 63\u001b[1;33m                 \u001b[1;32mreturn\u001b[0m \u001b[0mf\u001b[0m\u001b[1;33m(\u001b[0m\u001b[1;33m*\u001b[0m\u001b[0margs\u001b[0m\u001b[1;33m,\u001b[0m \u001b[1;33m**\u001b[0m\u001b[0mkwargs\u001b[0m\u001b[1;33m)\u001b[0m\u001b[1;33m\u001b[0m\u001b[1;33m\u001b[0m\u001b[0m\n\u001b[0m\u001b[0;32m     64\u001b[0m \u001b[1;33m\u001b[0m\u001b[0m\n\u001b[0;32m     65\u001b[0m             \u001b[1;31m# extra_args > 0\u001b[0m\u001b[1;33m\u001b[0m\u001b[1;33m\u001b[0m\u001b[1;33m\u001b[0m\u001b[0m\n",
      "\u001b[1;32m~\\anaconda3\\lib\\site-packages\\sklearn\\model_selection\\_validation.py\u001b[0m in \u001b[0;36mcross_val_score\u001b[1;34m(estimator, X, y, groups, scoring, cv, n_jobs, verbose, fit_params, pre_dispatch, error_score)\u001b[0m\n\u001b[0;32m    436\u001b[0m     \"\"\"\n\u001b[0;32m    437\u001b[0m     \u001b[1;31m# To ensure multimetric format is not supported\u001b[0m\u001b[1;33m\u001b[0m\u001b[1;33m\u001b[0m\u001b[1;33m\u001b[0m\u001b[0m\n\u001b[1;32m--> 438\u001b[1;33m     \u001b[0mscorer\u001b[0m \u001b[1;33m=\u001b[0m \u001b[0mcheck_scoring\u001b[0m\u001b[1;33m(\u001b[0m\u001b[0mestimator\u001b[0m\u001b[1;33m,\u001b[0m \u001b[0mscoring\u001b[0m\u001b[1;33m=\u001b[0m\u001b[0mscoring\u001b[0m\u001b[1;33m)\u001b[0m\u001b[1;33m\u001b[0m\u001b[1;33m\u001b[0m\u001b[0m\n\u001b[0m\u001b[0;32m    439\u001b[0m \u001b[1;33m\u001b[0m\u001b[0m\n\u001b[0;32m    440\u001b[0m     cv_results = cross_validate(estimator=estimator, X=X, y=y, groups=groups,\n",
      "\u001b[1;32m~\\anaconda3\\lib\\site-packages\\sklearn\\utils\\validation.py\u001b[0m in \u001b[0;36minner_f\u001b[1;34m(*args, **kwargs)\u001b[0m\n\u001b[0;32m     61\u001b[0m             \u001b[0mextra_args\u001b[0m \u001b[1;33m=\u001b[0m \u001b[0mlen\u001b[0m\u001b[1;33m(\u001b[0m\u001b[0margs\u001b[0m\u001b[1;33m)\u001b[0m \u001b[1;33m-\u001b[0m \u001b[0mlen\u001b[0m\u001b[1;33m(\u001b[0m\u001b[0mall_args\u001b[0m\u001b[1;33m)\u001b[0m\u001b[1;33m\u001b[0m\u001b[1;33m\u001b[0m\u001b[0m\n\u001b[0;32m     62\u001b[0m             \u001b[1;32mif\u001b[0m \u001b[0mextra_args\u001b[0m \u001b[1;33m<=\u001b[0m \u001b[1;36m0\u001b[0m\u001b[1;33m:\u001b[0m\u001b[1;33m\u001b[0m\u001b[1;33m\u001b[0m\u001b[0m\n\u001b[1;32m---> 63\u001b[1;33m                 \u001b[1;32mreturn\u001b[0m \u001b[0mf\u001b[0m\u001b[1;33m(\u001b[0m\u001b[1;33m*\u001b[0m\u001b[0margs\u001b[0m\u001b[1;33m,\u001b[0m \u001b[1;33m**\u001b[0m\u001b[0mkwargs\u001b[0m\u001b[1;33m)\u001b[0m\u001b[1;33m\u001b[0m\u001b[1;33m\u001b[0m\u001b[0m\n\u001b[0m\u001b[0;32m     64\u001b[0m \u001b[1;33m\u001b[0m\u001b[0m\n\u001b[0;32m     65\u001b[0m             \u001b[1;31m# extra_args > 0\u001b[0m\u001b[1;33m\u001b[0m\u001b[1;33m\u001b[0m\u001b[1;33m\u001b[0m\u001b[0m\n",
      "\u001b[1;32m~\\anaconda3\\lib\\site-packages\\sklearn\\metrics\\_scorer.py\u001b[0m in \u001b[0;36mcheck_scoring\u001b[1;34m(estimator, scoring, allow_none)\u001b[0m\n\u001b[0;32m    453\u001b[0m                 % estimator)\n\u001b[0;32m    454\u001b[0m     \u001b[1;32melif\u001b[0m \u001b[0misinstance\u001b[0m\u001b[1;33m(\u001b[0m\u001b[0mscoring\u001b[0m\u001b[1;33m,\u001b[0m \u001b[0mIterable\u001b[0m\u001b[1;33m)\u001b[0m\u001b[1;33m:\u001b[0m\u001b[1;33m\u001b[0m\u001b[1;33m\u001b[0m\u001b[0m\n\u001b[1;32m--> 455\u001b[1;33m         raise ValueError(\"For evaluating multiple scores, use \"\n\u001b[0m\u001b[0;32m    456\u001b[0m                          \u001b[1;34m\"sklearn.model_selection.cross_validate instead. \"\u001b[0m\u001b[1;33m\u001b[0m\u001b[1;33m\u001b[0m\u001b[0m\n\u001b[0;32m    457\u001b[0m                          \"{0} was passed.\".format(scoring))\n",
      "\u001b[1;31mValueError\u001b[0m: For evaluating multiple scores, use sklearn.model_selection.cross_validate instead. {'accuracy': make_scorer(accuracy_score), 'precision': make_scorer(precision_score), 'recall': make_scorer(recall_score), 'f1_score': make_scorer(f1_score)} was passed."
     ]
    }
   ],
   "source": [
    "from sklearn.metrics import make_scorer, accuracy_score, precision_score, recall_score, f1_score\n",
    "from sklearn.linear_model import LogisticRegression\n",
    "from sklearn.model_selection import KFold \n",
    "from sklearn.model_selection import cross_val_score\n",
    "scoring = {'accuracy' : make_scorer(accuracy_score), \n",
    "           'precision' : make_scorer(precision_score),\n",
    "           'recall' : make_scorer(recall_score), \n",
    "           'f1_score' : make_scorer(f1_score)}\n",
    "\n",
    "kfold = KFold(n_splits=10)\n",
    "model = LogisticRegression(multi_class='multinomial', max_iter=1000)\n",
    "\n",
    "results = cross_val_score(estimator=model,\n",
    "                                          X=x_train,\n",
    "                                          y=y_train,\n",
    "                                          cv=31,\n",
    "                                          scoring=scoring)"
   ]
  },
  {
   "cell_type": "markdown",
   "id": "99941a27",
   "metadata": {},
   "source": [
    "# Gaussian Naive Bayes"
   ]
  },
  {
   "cell_type": "code",
   "execution_count": 122,
   "id": "7f1277d5",
   "metadata": {},
   "outputs": [],
   "source": [
    "from sklearn.naive_bayes import GaussianNB"
   ]
  },
  {
   "cell_type": "code",
   "execution_count": 148,
   "id": "7a40d2f1",
   "metadata": {},
   "outputs": [],
   "source": [
    "def GaussNB(run_data):\n",
    "\n",
    "    x = run_data.drop(columns=['TravelInsurance'] , axis = 1) \n",
    "    y = run_data['TravelInsurance']\n",
    "    x_train , x_test , y_train , y_test = train_test_split(x , y , test_size=0.2 , random_state=5) \n",
    "\n",
    "    model = GaussianNB(var_smoothing = 0.356)  #Choice of smoothing because this yields maximum accuracy for k-fold accuracy\n",
    "    # fit the model with the training data\n",
    "    model.fit(x_train,y_train)\n",
    "\n",
    "\n",
    "    # Predict target on test dataset (which is 25 percent of the train)\n",
    "    predict_test = model.predict(x_test)\n",
    "\n",
    "    #Accuracy of test dataset, for comparison\n",
    "    accuracy_test = accuracy_score(y_test , predict_test)\n",
    "    print('accuracy_score on test dataset without k-fold CV: ', accuracy_test)\n",
    "\n",
    "    from sklearn.model_selection import cross_val_score\n",
    "    print('Accuracy after k-fold CV ' , sum(cross_val_score(model, x_train, y_train, cv=5)/5)) \n",
    "\n",
    "    # Adding a confusion matrix for illustration, this for the testing set\n",
    "    cm = confusion_matrix(y_test, predict_test) \n",
    "    print('The Confusion Matrix') \n",
    "    print(cm)"
   ]
  },
  {
   "cell_type": "code",
   "execution_count": 149,
   "id": "88105f18",
   "metadata": {},
   "outputs": [
    {
     "name": "stdout",
     "output_type": "stream",
     "text": [
      "accuracy_score on test dataset without k-fold CV:  0.8015075376884422\n",
      "Accuracy after k-fold CV  0.7766025831795728\n",
      "The Confusion Matrix\n",
      "[[256   5]\n",
      " [ 74  63]]\n"
     ]
    }
   ],
   "source": [
    "GaussNB(TravelInsurance)"
   ]
  },
  {
   "cell_type": "code",
   "execution_count": 124,
   "id": "b19265af",
   "metadata": {},
   "outputs": [
    {
     "name": "stdout",
     "output_type": "stream",
     "text": [
      "accuracy_score on test dataset without k-fold CV:  0.8015075376884422\n",
      "Accuracy after k-fold CV  0.7766025831795728\n",
      "The Confusion Matrix\n",
      "[[256   5]\n",
      " [ 74  63]]\n"
     ]
    }
   ],
   "source": [
    "GaussNB(continuous_data)"
   ]
  },
  {
   "cell_type": "code",
   "execution_count": 125,
   "id": "cf624e3e",
   "metadata": {},
   "outputs": [],
   "source": [
    "def get_accuracy(smoothing , run_data):\n",
    "  x = run_data.drop(columns=['TravelInsurance'] , axis = 1) \n",
    "  y = run_data['TravelInsurance']\n",
    "  x_train , x_test , y_train , y_test = train_test_split(x , y , test_size=0.2 , random_state=5) \n",
    "\n",
    "  model = GaussianNB(var_smoothing=smoothing)\n",
    "\n",
    "  model.fit(x_train,y_train)\n",
    "\n",
    "  # Predict target on test dataset (which is 25 percent of the train)\n",
    "  predict_test = model.predict(x_test)\n",
    "\n",
    "  from sklearn.model_selection import cross_val_score\n",
    "  accuracy = sum(cross_val_score(model, x_train, y_train, cv=5))/5  \n",
    "\n",
    "  #Accuracy of test dataset, for comparison\n",
    "  #accuracy_test = accuracy_score(y_test , predict_test)\n",
    "\n",
    "  return accuracy"
   ]
  },
  {
   "cell_type": "code",
   "execution_count": 127,
   "id": "453b68d6",
   "metadata": {
    "scrolled": true
   },
   "outputs": [
    {
     "name": "stdout",
     "output_type": "stream",
     "text": [
      "0.7766025831795728\n"
     ]
    }
   ],
   "source": [
    "print(get_accuracy(0.356 , TravelInsurance))"
   ]
  },
  {
   "cell_type": "code",
   "execution_count": 128,
   "id": "86943778",
   "metadata": {},
   "outputs": [
    {
     "name": "stdout",
     "output_type": "stream",
     "text": [
      "0.7766025831795728\n"
     ]
    }
   ],
   "source": [
    "print(get_accuracy(0.356 , continuous_data))"
   ]
  },
  {
   "cell_type": "markdown",
   "id": "84fa83f6",
   "metadata": {},
   "source": [
    "Producing results from dataset"
   ]
  },
  {
   "cell_type": "code",
   "execution_count": 129,
   "id": "3d5cadb9",
   "metadata": {},
   "outputs": [
    {
     "name": "stdout",
     "output_type": "stream",
     "text": [
      "0.7702957835116425 0.8015075376884422\n",
      "(array([0.76441917, 0.79050279]), array([0.9261811, 0.4938918]), array([0.83756119, 0.60794844]), array([1016,  573], dtype=int64))\n",
      "(array([0.77575758, 0.92647059]), array([0.98084291, 0.45985401]), array([0.86632826, 0.61463415]), array([261, 137], dtype=int64))\n"
     ]
    }
   ],
   "source": [
    "from sklearn.metrics import precision_recall_fscore_support\n",
    "\n",
    "x = continuous_data.drop(columns=['TravelInsurance'] , axis = 1) \n",
    "y = continuous_data['TravelInsurance']\n",
    "x_train , x_test , y_train , y_test = train_test_split(x , y , test_size=0.2 , random_state=5) \n",
    "\n",
    "model = GaussianNB(var_smoothing=0.356)\n",
    "\n",
    "model.fit(x_train,y_train)\n",
    "\n",
    "# Predict target on test dataset (which is 20 percent of the train)\n",
    "predict_test = model.predict(x_test)\n",
    "\n",
    "from sklearn.model_selection import cross_val_score\n",
    "accuracy = sum(cross_val_score(model, x_train, y_train, cv=5))/5  \n",
    "\n",
    "y_test_model = model.fit(x_train, y_train).predict(x_test)\n",
    "y_train_model = model.fit(x_test, y_test).predict(x_train)\n",
    "print(accuracy_score(y_train, y_train_model), accuracy_score(y_test, y_test_model))\n",
    "print(precision_recall_fscore_support(y_train, y_train_model, zero_division=1))\n",
    "print(precision_recall_fscore_support(y_test, y_test_model, zero_division=0))"
   ]
  },
  {
   "cell_type": "markdown",
   "id": "ae43e9d3",
   "metadata": {},
   "source": [
    "Now I want to create a graph showing how the accuracy for the test set changes with varying var_smoothing. The var_smoothing is how far away from the gauss distribution we choose to include values."
   ]
  },
  {
   "cell_type": "markdown",
   "id": "d8717de1",
   "metadata": {},
   "source": [
    "The 5-fold CV accuracy is used.\n",
    "\n"
   ]
  },
  {
   "cell_type": "code",
   "execution_count": 130,
   "id": "df148c71",
   "metadata": {},
   "outputs": [
    {
     "name": "stdout",
     "output_type": "stream",
     "text": [
      "The highest accuracy is found at var_smoothing =  0.356\n"
     ]
    },
    {
     "data": {
      "image/png": "[encoded data removed]",
      "text/plain": [
       "<Figure size 432x288 with 1 Axes>"
      ]
     },
     "metadata": {
      "needs_background": "light"
     },
     "output_type": "display_data"
    }
   ],
   "source": [
    "x_of_var = np.linspace(0 , 2 , 1000)\n",
    "y_of_var = []\n",
    "\n",
    "for i in x_of_var:\n",
    "  y_of_var.append(get_accuracy(i , continuous_data))\n",
    "\n",
    "#Finding the smoothing val of the highest accuracy score\n",
    "max_accuracy = max(y_of_var)\n",
    "index = y_of_var.index(max_accuracy)\n",
    "print('The highest accuracy is found at var_smoothing = ' , round(x_of_var[index] , 3)) \n",
    "\n",
    "plt.plot(x_of_var , y_of_var)\n",
    "plt.xlabel('var_smoothing')\n",
    "plt.ylabel('Accuracy of test')\n",
    "plt.title('var_smoothing dependence')\n",
    "plt.show()"
   ]
  },
  {
   "cell_type": "markdown",
   "id": "8aea59a6",
   "metadata": {},
   "source": [
    "# Random Forest model"
   ]
  },
  {
   "cell_type": "code",
   "execution_count": null,
   "id": "f3783681",
   "metadata": {},
   "outputs": [],
   "source": [
    "list_of_features=['Age', 'Employment Type', 'GraduateOrNot', 'AnnualIncome', 'FamilyMembers','FrequentFlyer', 'ChronicDiseases', 'EverTravelledAbroad']"
   ]
  },
  {
   "cell_type": "code",
   "execution_count": 132,
   "id": "5543426a",
   "metadata": {
    "collapsed": true
   },
   "outputs": [
    {
     "data": {
      "text/html": [
       "<div>\n",
       "<style scoped>\n",
       "    .dataframe tbody tr th:only-of-type {\n",
       "        vertical-align: middle;\n",
       "    }\n",
       "\n",
       "    .dataframe tbody tr th {\n",
       "        vertical-align: top;\n",
       "    }\n",
       "\n",
       "    .dataframe thead th {\n",
       "        text-align: right;\n",
       "    }\n",
       "</style>\n",
       "<table border=\"1\" class=\"dataframe\">\n",
       "  <thead>\n",
       "    <tr style=\"text-align: right;\">\n",
       "      <th></th>\n",
       "      <th>Age</th>\n",
       "      <th>Employment Type</th>\n",
       "      <th>GraduateOrNot</th>\n",
       "      <th>AnnualIncome</th>\n",
       "      <th>FamilyMembers</th>\n",
       "      <th>FrequentFlyer</th>\n",
       "      <th>ChronicDiseases</th>\n",
       "      <th>EverTravelledAbroad</th>\n",
       "    </tr>\n",
       "  </thead>\n",
       "  <tbody>\n",
       "    <tr>\n",
       "      <th>0</th>\n",
       "      <td>31</td>\n",
       "      <td>1</td>\n",
       "      <td>1</td>\n",
       "      <td>400000</td>\n",
       "      <td>6</td>\n",
       "      <td>0</td>\n",
       "      <td>1</td>\n",
       "      <td>0</td>\n",
       "    </tr>\n",
       "    <tr>\n",
       "      <th>1</th>\n",
       "      <td>31</td>\n",
       "      <td>0</td>\n",
       "      <td>1</td>\n",
       "      <td>1250000</td>\n",
       "      <td>7</td>\n",
       "      <td>0</td>\n",
       "      <td>0</td>\n",
       "      <td>0</td>\n",
       "    </tr>\n",
       "    <tr>\n",
       "      <th>2</th>\n",
       "      <td>34</td>\n",
       "      <td>0</td>\n",
       "      <td>1</td>\n",
       "      <td>500000</td>\n",
       "      <td>4</td>\n",
       "      <td>0</td>\n",
       "      <td>1</td>\n",
       "      <td>0</td>\n",
       "    </tr>\n",
       "    <tr>\n",
       "      <th>3</th>\n",
       "      <td>28</td>\n",
       "      <td>0</td>\n",
       "      <td>1</td>\n",
       "      <td>700000</td>\n",
       "      <td>3</td>\n",
       "      <td>0</td>\n",
       "      <td>1</td>\n",
       "      <td>0</td>\n",
       "    </tr>\n",
       "    <tr>\n",
       "      <th>4</th>\n",
       "      <td>28</td>\n",
       "      <td>0</td>\n",
       "      <td>1</td>\n",
       "      <td>700000</td>\n",
       "      <td>8</td>\n",
       "      <td>1</td>\n",
       "      <td>1</td>\n",
       "      <td>0</td>\n",
       "    </tr>\n",
       "    <tr>\n",
       "      <th>...</th>\n",
       "      <td>...</td>\n",
       "      <td>...</td>\n",
       "      <td>...</td>\n",
       "      <td>...</td>\n",
       "      <td>...</td>\n",
       "      <td>...</td>\n",
       "      <td>...</td>\n",
       "      <td>...</td>\n",
       "    </tr>\n",
       "    <tr>\n",
       "      <th>1982</th>\n",
       "      <td>33</td>\n",
       "      <td>0</td>\n",
       "      <td>1</td>\n",
       "      <td>1500000</td>\n",
       "      <td>4</td>\n",
       "      <td>1</td>\n",
       "      <td>0</td>\n",
       "      <td>1</td>\n",
       "    </tr>\n",
       "    <tr>\n",
       "      <th>1983</th>\n",
       "      <td>28</td>\n",
       "      <td>0</td>\n",
       "      <td>1</td>\n",
       "      <td>1750000</td>\n",
       "      <td>5</td>\n",
       "      <td>0</td>\n",
       "      <td>1</td>\n",
       "      <td>1</td>\n",
       "    </tr>\n",
       "    <tr>\n",
       "      <th>1984</th>\n",
       "      <td>28</td>\n",
       "      <td>0</td>\n",
       "      <td>1</td>\n",
       "      <td>1150000</td>\n",
       "      <td>6</td>\n",
       "      <td>0</td>\n",
       "      <td>1</td>\n",
       "      <td>0</td>\n",
       "    </tr>\n",
       "    <tr>\n",
       "      <th>1985</th>\n",
       "      <td>34</td>\n",
       "      <td>0</td>\n",
       "      <td>1</td>\n",
       "      <td>1000000</td>\n",
       "      <td>6</td>\n",
       "      <td>1</td>\n",
       "      <td>0</td>\n",
       "      <td>1</td>\n",
       "    </tr>\n",
       "    <tr>\n",
       "      <th>1986</th>\n",
       "      <td>34</td>\n",
       "      <td>0</td>\n",
       "      <td>1</td>\n",
       "      <td>500000</td>\n",
       "      <td>4</td>\n",
       "      <td>0</td>\n",
       "      <td>0</td>\n",
       "      <td>0</td>\n",
       "    </tr>\n",
       "  </tbody>\n",
       "</table>\n",
       "<p>1987 rows × 8 columns</p>\n",
       "</div>"
      ],
      "text/plain": [
       "      Age  Employment Type  GraduateOrNot  AnnualIncome  FamilyMembers  FrequentFlyer  ChronicDiseases  EverTravelledAbroad\n",
       "0      31                1              1        400000              6              0                1                    0\n",
       "1      31                0              1       1250000              7              0                0                    0\n",
       "2      34                0              1        500000              4              0                1                    0\n",
       "3      28                0              1        700000              3              0                1                    0\n",
       "4      28                0              1        700000              8              1                1                    0\n",
       "...   ...              ...            ...           ...            ...            ...              ...                  ...\n",
       "1982   33                0              1       1500000              4              1                0                    1\n",
       "1983   28                0              1       1750000              5              0                1                    1\n",
       "1984   28                0              1       1150000              6              0                1                    0\n",
       "1985   34                0              1       1000000              6              1                0                    1\n",
       "1986   34                0              1        500000              4              0                0                    0\n",
       "\n",
       "[1987 rows x 8 columns]"
      ]
     },
     "execution_count": 132,
     "metadata": {},
     "output_type": "execute_result"
    }
   ],
   "source": [
    "X=TravelInsurance[list_of_features]\n",
    "X"
   ]
  },
  {
   "cell_type": "code",
   "execution_count": 133,
   "id": "bf8c95a7",
   "metadata": {},
   "outputs": [],
   "source": [
    "from sklearn.model_selection import train_test_split\n",
    "X_train, X_test, y_train, y_test = train_test_split(X, y, train_size=0.8, random_state=0)"
   ]
  },
  {
   "cell_type": "code",
   "execution_count": 134,
   "id": "ea793c8d",
   "metadata": {},
   "outputs": [],
   "source": [
    "# standardization\n",
    "from sklearn.preprocessing import StandardScaler\n",
    "sc = StandardScaler()\n",
    "X_train = sc.fit_transform(X_train)\n",
    "X_test = sc.transform(X_test)"
   ]
  },
  {
   "cell_type": "code",
   "execution_count": 135,
   "id": "2cd32f13",
   "metadata": {},
   "outputs": [
    {
     "data": {
      "text/plain": [
       "RandomForestClassifier(criterion='entropy', random_state=0)"
      ]
     },
     "execution_count": 135,
     "metadata": {},
     "output_type": "execute_result"
    }
   ],
   "source": [
    "from sklearn.ensemble import RandomForestClassifier\n",
    "model = RandomForestClassifier(n_estimators = 100, criterion = 'entropy', random_state = 0) # the another criterion is 'gini' 'entropy'\n",
    "model.fit(X_train, y_train)"
   ]
  },
  {
   "cell_type": "code",
   "execution_count": 136,
   "id": "b2d6f673",
   "metadata": {},
   "outputs": [
    {
     "data": {
      "text/plain": [
       "array([[220,  40],\n",
       "       [ 50,  88]], dtype=int64)"
      ]
     },
     "execution_count": 136,
     "metadata": {},
     "output_type": "execute_result"
    }
   ],
   "source": [
    "#the actual training, and the result of the accuracy \n",
    "from sklearn.metrics import confusion_matrix, accuracy_score\n",
    "y_pred = model.predict(X_test)\n",
    "cm = confusion_matrix(y_test, y_pred)\n",
    "cm"
   ]
  },
  {
   "cell_type": "code",
   "execution_count": 137,
   "id": "87dca894",
   "metadata": {},
   "outputs": [
    {
     "data": {
      "text/plain": [
       "0.7738693467336684"
      ]
     },
     "execution_count": 137,
     "metadata": {},
     "output_type": "execute_result"
    }
   ],
   "source": [
    "accuracy_score(y_test, y_pred)"
   ]
  },
  {
   "cell_type": "code",
   "execution_count": 138,
   "id": "06e98788",
   "metadata": {},
   "outputs": [
    {
     "name": "stdout",
     "output_type": "stream",
     "text": [
      "              precision    recall  f1-score   support\n",
      "\n",
      "           0       0.81      0.85      0.83       260\n",
      "           1       0.69      0.64      0.66       138\n",
      "\n",
      "    accuracy                           0.77       398\n",
      "   macro avg       0.75      0.74      0.75       398\n",
      "weighted avg       0.77      0.77      0.77       398\n",
      "\n"
     ]
    }
   ],
   "source": [
    "# View the classification report for test data and predictions\n",
    "print(classification_report(y_test, y_pred))"
   ]
  },
  {
   "cell_type": "code",
   "execution_count": null,
   "id": "a2b60ccd",
   "metadata": {},
   "outputs": [],
   "source": []
  },
  {
   "cell_type": "code",
   "execution_count": null,
   "id": "b53d24c5",
   "metadata": {},
   "outputs": [],
   "source": []
  },
  {
   "cell_type": "code",
   "execution_count": null,
   "id": "58b5cc4a",
   "metadata": {},
   "outputs": [],
   "source": []
  }
 ],
 "metadata": {
  "kernelspec": {
   "display_name": "Python 3",
   "language": "python",
   "name": "python3"
  },
  "language_info": {
   "codemirror_mode": {
    "name": "ipython",
    "version": 3
   },
   "file_extension": ".py",
   "mimetype": "text/x-python",
   "name": "python",
   "nbconvert_exporter": "python",
   "pygments_lexer": "ipython3",
   "version": "3.8.8"
  }
 },
 "nbformat": 4,
 "nbformat_minor": 5
}
