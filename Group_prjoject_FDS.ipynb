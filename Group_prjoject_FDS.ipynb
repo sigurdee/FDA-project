{
  "nbformat": 4,
  "nbformat_minor": 0,
  "metadata": {
    "colab": {
      "name": "Group_prjoject_FDS.ipynb",
      "provenance": [],
      "toc_visible": true,
      "authorship_tag": "ABX9TyOuiz5vthcDch7iFkoxVL5B",
      "include_colab_link": true
    },
    "kernelspec": {
      "name": "python3",
      "display_name": "Python 3"
    },
    "language_info": {
      "name": "python"
    }
  },
  "cells": [
    {
      "cell_type": "markdown",
      "metadata": {
        "id": "view-in-github",
        "colab_type": "text"
      },
      "source": [
        "<a href=\"https://colab.research.google.com/github/sigurdee/FDA-project/blob/main/Group_prjoject_FDS.ipynb\" target=\"_parent\"><img src=\"https://colab.research.google.com/assets/colab-badge.svg\" alt=\"Open In Colab\"/></a>"
      ]
    },
    {
      "cell_type": "markdown",
      "source": [
        "**Travel Insurance Prediction**\n",
        "\n",
        "Group Project, Fundamentals of Data Science "
      ],
      "metadata": {
        "id": "f_iMtS8uzpGg"
      }
    },
    {
      "cell_type": "code",
      "execution_count": 1,
      "metadata": {
        "id": "ivpDEnPhzXfP"
      },
      "outputs": [],
      "source": [
        "import math\n",
        "import numpy as np # imports a fast numerical programming library\n",
        "import scipy as sp # imports stats functions, amongst other things\n",
        "import matplotlib as mpl # this actually imports matplotlib\n",
        "import matplotlib.cm as cm # allows us easy access to colormaps\n",
        "import matplotlib.pyplot as plt # sets up plotting under plt\n",
        "import pandas as pd # lets us handle data as dataframes\n",
        "from sklearn.naive_bayes import GaussianNB\n",
        "from sklearn.metrics import accuracy_score\n",
        "from sklearn.datasets import make_classification\n",
        "from sklearn.model_selection import train_test_split \n",
        "from sklearn.metrics import confusion_matrix  \n",
        "import seaborn as sns\n",
        "# sets up pandas table display\n",
        "pd.set_option('display.width', 500)\n",
        "pd.set_option('display.max_columns', 100)\n",
        "pd.set_option('display.notebook_repr_html', True)\n",
        "\n",
        "import seaborn as sns # sets up styles and gives us more plotting options"
      ]
    },
    {
      "cell_type": "markdown",
      "source": [
        "Open dataset using pandas"
      ],
      "metadata": {
        "id": "phYHB2mt0EeH"
      }
    },
    {
      "cell_type": "code",
      "source": [
        "# First opening the csv file for the training data\n",
        "\n",
        "load = pd.read_csv('/TravelInsurancePrediction_edit.csv')"
      ],
      "metadata": {
        "id": "JF8sI5PDz82R"
      },
      "execution_count": 3,
      "outputs": []
    },
    {
      "cell_type": "code",
      "source": [
        "# Function for extracting a single column:\n",
        "\n",
        "def column(matrix , i):\n",
        "    return [row[i] for row in matrix]\n",
        "\n",
        "# Testing a histogram for age groups:\n",
        "\n",
        "def AgeHist(train_data):\n",
        "    age_list = column(train_data , 0)"
      ],
      "metadata": {
        "id": "y8-W1WAbDos3"
      },
      "execution_count": 4,
      "outputs": []
    },
    {
      "cell_type": "code",
      "source": [
        "\n",
        "# Using a built in Naive Bayes function\n",
        "\n",
        "def GaussNB(load):\n",
        "\n",
        "    x = load.drop(columns=['TravelInsurance'] , axis = 1) \n",
        "    y = load['TravelInsurance']\n",
        "\n",
        "    x_train , x_test , y_train , y_test = train_test_split(x , y , test_size=0.25 , random_state=5)\n",
        "\n",
        "    model = GaussianNB(var_smoothing=0.25)  # Testing here with different var_smoothings; around 0.25 gives highests acc\n",
        "\n",
        "    # fit the model with the training data\n",
        "    model.fit(x_train,y_train)\n",
        "\n",
        "    # predict the target on the train dataset\n",
        "    predict_train = model.predict(x_train)\n",
        "    print('Target on train data',predict_train) \n",
        "\n",
        "    # Accuray Score on train dataset\n",
        "    accuracy_train = accuracy_score(y_train,predict_train)\n",
        "    print('accuracy_score on train dataset : ', accuracy_train)\n",
        "\n",
        "\n",
        "    # Predict target on test dataset (which is 25 percent of the train)\n",
        "    predict_test = model.predict(x_test)\n",
        "\n",
        "    #Accuracy of test dataset, for comparison\n",
        "    accuracy_test = accuracy_score(y_test , predict_test)\n",
        "    print('accuracy_score on test dataset: ', accuracy_test)\n",
        "\n",
        "    # Adding a confusion matrix for illustration, this for the testing set\n",
        "    cm = confusion_matrix(y_test, predict_test)  \n",
        "    print(cm)  "
      ],
      "metadata": {
        "id": "hblFr2mADqLU"
      },
      "execution_count": 5,
      "outputs": []
    },
    {
      "cell_type": "code",
      "source": [
        "GaussNB(load)"
      ],
      "metadata": {
        "colab": {
          "base_uri": "https://localhost:8080/"
        },
        "id": "Um5MmbopDvWs",
        "outputId": "3207bd01-bcd7-45cc-9a7b-c8a910acdf64"
      },
      "execution_count": 6,
      "outputs": [
        {
          "output_type": "stream",
          "name": "stdout",
          "text": [
            "Target on train data [0 0 0 ... 0 0 0]\n",
            "accuracy_score on train dataset :  0.774496644295302\n",
            "accuracy_score on test dataset:  0.7826961770623743\n",
            "[[300  20]\n",
            " [ 88  89]]\n"
          ]
        }
      ]
    },
    {
      "cell_type": "code",
      "source": [
        ""
      ],
      "metadata": {
        "id": "1cVYzAnEDyvK"
      },
      "execution_count": null,
      "outputs": []
    }
  ]
}